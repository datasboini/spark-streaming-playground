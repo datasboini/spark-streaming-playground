{
 "cells": [
  {
   "cell_type": "code",
   "execution_count": 12,
   "metadata": {},
   "outputs": [],
   "source": [
    "%load_ext autoreload\n",
    "%autoreload 2"
   ]
  },
  {
   "cell_type": "markdown",
   "metadata": {},
   "source": [
    "**References**\n",
    "- https://arxiv.org/abs/1605.07723\n",
    "- https://github.com/snorkel-team/snorkel-tutorials\n",
    "- https://github.com/snorkel-team/snorkel-tutorials/blob/master/spam/01_spam_tutorial.ipynb\n",
    "- https://medium.com/sculpt/a-technique-for-building-nlp-classifiers-efficiently-with-transfer-learning-and-weak-supervision-a8e2f21ca9c8"
   ]
  },
  {
   "cell_type": "code",
   "execution_count": 1,
   "metadata": {},
   "outputs": [
    {
     "ename": "ImportError",
     "evalue": "cannot import name 'SSPTweetLabelling'",
     "output_type": "error",
     "traceback": [
      "\u001b[0;31m---------------------------------------------------------------------------\u001b[0m",
      "\u001b[0;31mImportError\u001b[0m                               Traceback (most recent call last)",
      "\u001b[0;32m<ipython-input-1-17fda02fa737>\u001b[0m in \u001b[0;36m<module>\u001b[0;34m\u001b[0m\n\u001b[1;32m      4\u001b[0m \u001b[0msys\u001b[0m\u001b[0;34m.\u001b[0m\u001b[0mpath\u001b[0m\u001b[0;34m.\u001b[0m\u001b[0mappend\u001b[0m\u001b[0;34m(\u001b[0m\u001b[0;34m\"../src/\"\u001b[0m\u001b[0;34m)\u001b[0m\u001b[0;34m\u001b[0m\u001b[0;34m\u001b[0m\u001b[0m\n\u001b[1;32m      5\u001b[0m \u001b[0;34m\u001b[0m\u001b[0m\n\u001b[0;32m----> 6\u001b[0;31m \u001b[0;32mfrom\u001b[0m \u001b[0mssp\u001b[0m\u001b[0;34m.\u001b[0m\u001b[0msnorkel\u001b[0m\u001b[0;34m.\u001b[0m\u001b[0mlabelling_function\u001b[0m \u001b[0;32mimport\u001b[0m \u001b[0mSSPTweetLabelling\u001b[0m\u001b[0;34m\u001b[0m\u001b[0;34m\u001b[0m\u001b[0m\n\u001b[0m\u001b[1;32m      7\u001b[0m \u001b[0;34m\u001b[0m\u001b[0m\n",
      "\u001b[0;31mImportError\u001b[0m: cannot import name 'SSPTweetLabelling'"
     ]
    }
   ],
   "source": [
    "import sys\n",
    "from tqdm import tqdm, tqdm_notebook\n",
    "# tqdm.pandas()\n",
    "sys.path.append(\"../src/\")\n",
    "\n",
    "from ssp.snorkel.labelling_function import SSPTweetLabelling\n",
    "\n"
   ]
  },
  {
   "cell_type": "code",
   "execution_count": 46,
   "metadata": {},
   "outputs": [
    {
     "name": "stdout",
     "output_type": "stream",
     "text": [
      "bin\t    docker_requirements.txt  Makefile\t       src\n",
      "config.ini  docs\t\t     models\t       supervisord.log\n",
      "data\t    kubernetes\t\t     README.md\t       twitter.ini\n",
      "dist\t    libs\t\t     requirements.txt\n",
      "docker\t    LICENSE\t\t     scala\n"
     ]
    }
   ],
   "source": [
    "! ls ../../../"
   ]
  },
  {
   "cell_type": "code",
   "execution_count": 50,
   "metadata": {},
   "outputs": [
    {
     "name": "stdout",
     "output_type": "stream",
     "text": [
      "\u001b[92mReading _config from : ../../../config.ini\u001b[0m\n",
      "\u001b[92mReading _config from : ../../../config.ini\u001b[0m\n",
      "0    602\n",
      "1    398\n",
      "Name: label_annotated, dtype: int64\n",
      "0    626\n",
      "1    374\n",
      "Name: label_annotated, dtype: int64\n",
      "0    311\n",
      "1    189\n",
      "Name: label_annotated, dtype: int64\n"
     ]
    }
   ],
   "source": [
    "labeller = SSPTweetLabelling(config_file_path=\"../../../config.ini\", \n",
    "                        lf_train_dataset_path=\"original/ssp_LF_dataset.parquet\", \n",
    "                        lf_test_dataset_path=\"original/ssp_test_dataset.parquet\", \n",
    "                        lf_dev_dataset_path=\"original/ssp_val_dataset.parquet\")"
   ]
  },
  {
   "cell_type": "code",
   "execution_count": 51,
   "metadata": {},
   "outputs": [
    {
     "name": "stderr",
     "output_type": "stream",
     "text": [
      "\n",
      "\n",
      "\n",
      "\n",
      "\n",
      "\n",
      "\n",
      "\n",
      "\n",
      "\n",
      "\n",
      "100%|██████████| 1000/1000 [00:00<00:00, 16351.93it/s]A\u001b[A\u001b[A\u001b[A\u001b[A\u001b[A\u001b[A\n",
      "\n",
      "\n",
      "\n",
      "\n",
      "\n",
      "\n",
      "\n",
      "\n",
      "\n",
      "\n",
      "\n",
      "100%|██████████| 1000/1000 [00:00<00:00, 17729.73it/s]A\u001b[A\u001b[A\u001b[A\u001b[A\u001b[A\u001b[A\n",
      "\n",
      "\n",
      "\n",
      "\n",
      "\n",
      "\n",
      "\n",
      "\n",
      "\n",
      "\n",
      "\n",
      "100%|██████████| 500/500 [00:00<00:00, 16572.51it/s][A\u001b[A\u001b[A\u001b[A\u001b[A\u001b[A\u001b[A\n"
     ]
    },
    {
     "name": "stdout",
     "output_type": "stream",
     "text": [
      "\u001b[92m               j Polarity  Coverage  Overlaps  Conflicts\n",
      "is_ai_tweet    0      [1]     0.462     0.066      0.000\n",
      "no_ai_tweet    1      [0]     0.538     0.077      0.077\n",
      "is_data_tweet  2      [1]     0.143     0.143      0.077\u001b[0m\n",
      "Label Model Accuracy:     80.3%\n"
     ]
    }
   ],
   "source": [
    "labeller.run()"
   ]
  },
  {
   "cell_type": "code",
   "execution_count": 68,
   "metadata": {},
   "outputs": [],
   "source": [
    "import re"
   ]
  },
  {
   "cell_type": "code",
   "execution_count": 7,
   "metadata": {},
   "outputs": [
    {
     "data": {
      "text/plain": [
       "(False, 0)"
      ]
     },
     "execution_count": 7,
     "metadata": {},
     "output_type": "execute_result"
    }
   ],
   "source": [
    "ttt = \"RT @KS_Beringer: A good read for end of 2019! https://t.co/0jTfGLLqYk\"\n",
    "\n",
    "\n",
    "\n",
    "from ssp.snorkel.ai_key_words import AIKeyWords\n",
    "\n",
    "def is_ai_tweet(text):\n",
    "    text = text.replace(\"#\", \"\").replace(\"@\", \"\")\n",
    "    for tag in AIKeyWords.ALL.split(\"|\"):\n",
    "        if f' {tag.lower()} ' in f' {text.lower()} ':\n",
    "            print(tag)\n",
    "            return True\n",
    "    return False\n",
    "\n",
    "def labelme(text, keywords=AIKeyWords.ALL.split(\"|\")):\n",
    "    text = text.replace(\"#\", \"\").replace(\"@\", \"\")\n",
    "    res = 0\n",
    "    for keyword in keywords:\n",
    "        if f' {keyword.lower()} ' in f' {text.lower()} ':\n",
    "            res = 1\n",
    "    return res\n",
    "\n",
    "is_ai_tweet(ttt), labelme(ttt)"
   ]
  },
  {
   "cell_type": "code",
   "execution_count": null,
   "metadata": {},
   "outputs": [],
   "source": []
  },
  {
   "cell_type": "code",
   "execution_count": 153,
   "metadata": {},
   "outputs": [
    {
     "data": {
      "text/plain": [
       "58"
      ]
     },
     "execution_count": 153,
     "metadata": {},
     "output_type": "execute_result"
    }
   ],
   "source": [
    "len(AIKeyWords.ALL.split(\"|\"))"
   ]
  },
  {
   "cell_type": "code",
   "execution_count": 181,
   "metadata": {},
   "outputs": [],
   "source": [
    "def pick_text(text, rtext, etext):\n",
    "    ret = \"\"\n",
    "    if etext:\n",
    "        ret = etext\n",
    "    elif rtext:\n",
    "        ret = rtext\n",
    "    else:\n",
    "        ret = text\n",
    "\n",
    "    return re.sub(\"\\n|\\r\", \"\", ret).strip()"
   ]
  },
  {
   "cell_type": "code",
   "execution_count": 182,
   "metadata": {},
   "outputs": [
    {
     "data": {
      "text/plain": [
       "'etext'"
      ]
     },
     "execution_count": 182,
     "metadata": {},
     "output_type": "execute_result"
    }
   ],
   "source": [
    "pick_text(\"text\", \"rtext\", \"etext\")"
   ]
  },
  {
   "cell_type": "code",
   "execution_count": 183,
   "metadata": {},
   "outputs": [
    {
     "data": {
      "text/plain": [
       "'text'"
      ]
     },
     "execution_count": 183,
     "metadata": {},
     "output_type": "execute_result"
    }
   ],
   "source": [
    "pick_text(\"text\", None, None)"
   ]
  },
  {
   "cell_type": "code",
   "execution_count": 184,
   "metadata": {},
   "outputs": [
    {
     "name": "stdout",
     "output_type": "stream",
     "text": [
      "RT @jblefevre60: AI learns chess!#AI #MachineLearning #Robotics #MachineVision via @wef HT @MikeQuindazzi@SpirosMargaris @HaroldSinnott…\n"
     ]
    }
   ],
   "source": [
    "ttttt = \"\"\"By conceptualizing a combination of matter, energy, and information, digitization of physical products and production has become an emerging idea in sustainability. Source @mitsmr Link &gt;&gt; https://t.co/2tpuei2ER8 via @antgrasso #DigitalStrategy #DigitalTransformation https://t.co/XyS9AVC4pf\n",
    "\"\"\"\n",
    "print(pick_text(\"None\", None, ttttt))"
   ]
  },
  {
   "cell_type": "code",
   "execution_count": 189,
   "metadata": {},
   "outputs": [],
   "source": [
    "from sklearn.model_selection import train_test_split\n"
   ]
  },
  {
   "cell_type": "code",
   "execution_count": 190,
   "metadata": {},
   "outputs": [
    {
     "ename": "NameError",
     "evalue": "name 'df' is not defined",
     "output_type": "error",
     "traceback": [
      "\u001b[0;31m---------------------------------------------------------------------------\u001b[0m",
      "\u001b[0;31mNameError\u001b[0m                                 Traceback (most recent call last)",
      "\u001b[0;32m<ipython-input-190-00cf07b74dcd>\u001b[0m in \u001b[0;36m<module>\u001b[0;34m\u001b[0m\n\u001b[0;32m----> 1\u001b[0;31m \u001b[0mdf\u001b[0m\u001b[0;34m\u001b[0m\u001b[0;34m\u001b[0m\u001b[0m\n\u001b[0m",
      "\u001b[0;31mNameError\u001b[0m: name 'df' is not defined"
     ]
    }
   ],
   "source": [
    "df"
   ]
  },
  {
   "cell_type": "code",
   "execution_count": null,
   "metadata": {},
   "outputs": [],
   "source": []
  }
 ],
 "metadata": {
  "kernelspec": {
   "display_name": "Python 3",
   "language": "python",
   "name": "python3"
  },
  "language_info": {
   "codemirror_mode": {
    "name": "ipython",
    "version": 3
   },
   "file_extension": ".py",
   "mimetype": "text/x-python",
   "name": "python",
   "nbconvert_exporter": "python",
   "pygments_lexer": "ipython3",
   "version": "3.6.9"
  }
 },
 "nbformat": 4,
 "nbformat_minor": 4
}
