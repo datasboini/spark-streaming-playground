{
 "cells": [
  {
   "cell_type": "markdown",
   "metadata": {},
   "source": [
    "# Exploratory Analysis on Spark Streaming Dataset \n",
    "\n",
    "This is going to be really fun, since we are gonna consider raw data and explore whether it makes sense for us to use it for our purpose.\n",
    "\n",
    "What's our purpose?\n",
    "- We wanted to do a text classification, to determine whether the collected data make sense to get mannully tagged.\n",
    "- We must ensure taht we have right kind of data with us before we spend time in tagging them for supervised learning"
   ]
  },
  {
   "cell_type": "code",
   "execution_count": 1,
   "metadata": {},
   "outputs": [
    {
     "name": "stderr",
     "output_type": "stream",
     "text": [
      "[nltk_data] Downloading package punkt to\n",
      "[nltk_data]     /home/mageswarand/nltk_data...\n",
      "[nltk_data]   Package punkt is already up-to-date!\n"
     ]
    }
   ],
   "source": [
    "import os\n",
    "import glob\n",
    "import pandas as pd\n",
    "from wordcloud import WordCloud, STOPWORDS\n",
    "import matplotlib.pyplot as plt\n",
    "import matplotlib.image as mpimg\n",
    "import seaborn as sns\n",
    "import imageio\n",
    "plt.style.use('ggplot')\n",
    "import json\n",
    "import re\n",
    "import nltk\n",
    "nltk.download('punkt')\n",
    "import spacy\n",
    "import textacy\n",
    "import numpy as np"
   ]
  },
  {
   "cell_type": "code",
   "execution_count": 2,
   "metadata": {},
   "outputs": [],
   "source": [
    "from sklearn.feature_extraction.text import CountVectorizer\n",
    "from sklearn.model_selection import train_test_split\n",
    "from sklearn.manifold import TSNE"
   ]
  },
  {
   "cell_type": "code",
   "execution_count": 3,
   "metadata": {},
   "outputs": [],
   "source": [
    "RAW_PARQUET_FILES = \"/tmp/ssp/raw_data/\""
   ]
  },
  {
   "cell_type": "code",
   "execution_count": 61,
   "metadata": {},
   "outputs": [],
   "source": [
    "def get_raw_tweets(path):\n",
    "    \"\"\"\n",
    "    Combines all parquet file as one in given path\n",
    "    :param path: Folder path\n",
    "    :return:\n",
    "    \"\"\"\n",
    "    all_files = glob.glob(path + \"/*.parquet\")\n",
    "    files = []\n",
    "    for filename in all_files:\n",
    "        if \"part-00000-8f46a196-c1a7-4456-9b1d-f20098600014-c000\" in filename:\n",
    "            continue\n",
    "        if filename.endswith(\".parquet\") and os.path.isfile(filename):\n",
    "            df = pd.read_parquet(filename, engine=\"fastparquet\")\n",
    "            files.append(df)\n",
    "    df = pd.concat(files, axis=0, ignore_index=True)\n",
    "    return df"
   ]
  },
  {
   "cell_type": "code",
   "execution_count": 74,
   "metadata": {},
   "outputs": [],
   "source": [
    "df = get_raw_tweets(RAW_PARQUET_FILES)"
   ]
  },
  {
   "cell_type": "code",
   "execution_count": 75,
   "metadata": {},
   "outputs": [
    {
     "name": "stdout",
     "output_type": "stream",
     "text": [
      "We have 30932 records in total\n"
     ]
    }
   ],
   "source": [
    "print(\"We have {} records in total\".format(df.shape[0])) #28791"
   ]
  },
  {
   "cell_type": "code",
   "execution_count": 76,
   "metadata": {},
   "outputs": [
    {
     "data": {
      "text/html": [
       "<div>\n",
       "<style scoped>\n",
       "    .dataframe tbody tr th:only-of-type {\n",
       "        vertical-align: middle;\n",
       "    }\n",
       "\n",
       "    .dataframe tbody tr th {\n",
       "        vertical-align: top;\n",
       "    }\n",
       "\n",
       "    .dataframe thead th {\n",
       "        text-align: right;\n",
       "    }\n",
       "</style>\n",
       "<table border=\"1\" class=\"dataframe\">\n",
       "  <thead>\n",
       "    <tr style=\"text-align: right;\">\n",
       "      <th></th>\n",
       "      <th>created_at</th>\n",
       "      <th>text</th>\n",
       "      <th>source</th>\n",
       "      <th>expanded_url</th>\n",
       "      <th>media_url_https</th>\n",
       "    </tr>\n",
       "  </thead>\n",
       "  <tbody>\n",
       "    <tr>\n",
       "      <td>0</td>\n",
       "      <td>Fri Mar 20 03:02:24 +0000 2020</td>\n",
       "      <td>@Notintheface1 @Tweeted_Tongues No, I totally ...</td>\n",
       "      <td>Twitter Web App</td>\n",
       "      <td>[b'https://twitter.com/i/web/status/1240836057...</td>\n",
       "      <td>None</td>\n",
       "    </tr>\n",
       "    <tr>\n",
       "      <td>1</td>\n",
       "      <td>Thu Mar 19 13:09:20 +0000 2020</td>\n",
       "      <td>LEARNING AT HOME CHALLENGE #6. Think of your f...</td>\n",
       "      <td>Twitter Web App</td>\n",
       "      <td>[b'https://twitter.com/i/web/status/1240626410...</td>\n",
       "      <td>None</td>\n",
       "    </tr>\n",
       "    <tr>\n",
       "      <td>2</td>\n",
       "      <td>Thu Mar 19 13:09:23 +0000 2020</td>\n",
       "      <td>@SalemSchoolsk12 is offering enrichment activi...</td>\n",
       "      <td>Twitter for Android</td>\n",
       "      <td>[b'https://twitter.com/i/web/status/1240626422...</td>\n",
       "      <td>None</td>\n",
       "    </tr>\n",
       "    <tr>\n",
       "      <td>3</td>\n",
       "      <td>Thu Mar 19 13:30:34 +0000 2020</td>\n",
       "      <td>NBA boss Adam Silver defends players' access t...</td>\n",
       "      <td>Twitter for iPhone</td>\n",
       "      <td>[b'https://twitter.com/i/web/status/1240631754...</td>\n",
       "      <td>None</td>\n",
       "    </tr>\n",
       "    <tr>\n",
       "      <td>4</td>\n",
       "      <td>Thu Mar 19 13:30:42 +0000 2020</td>\n",
       "      <td>Big Play Slay is an Eagle and I’m hyped. Imagi...</td>\n",
       "      <td>Twitter for iPhone</td>\n",
       "      <td>[b'https://twitter.com/i/web/status/1240631788...</td>\n",
       "      <td>None</td>\n",
       "    </tr>\n",
       "    <tr>\n",
       "      <td>...</td>\n",
       "      <td>...</td>\n",
       "      <td>...</td>\n",
       "      <td>...</td>\n",
       "      <td>...</td>\n",
       "      <td>...</td>\n",
       "    </tr>\n",
       "    <tr>\n",
       "      <td>30927</td>\n",
       "      <td>Fri Mar 20 02:54:21 +0000 2020</td>\n",
       "      <td>This project has a very strong team. I am sure...</td>\n",
       "      <td>Twitter Web App</td>\n",
       "      <td>[b'https://twitter.com/i/web/status/1240834030...</td>\n",
       "      <td>None</td>\n",
       "    </tr>\n",
       "    <tr>\n",
       "      <td>30928</td>\n",
       "      <td>Sun Mar 22 09:26:59 +0000 2020</td>\n",
       "      <td>Very creative company and today one of the mos...</td>\n",
       "      <td>Twitter Web App</td>\n",
       "      <td>[b'https://twitter.com/i/web/status/1241657616...</td>\n",
       "      <td>None</td>\n",
       "    </tr>\n",
       "    <tr>\n",
       "      <td>30929</td>\n",
       "      <td>Fri Mar 20 02:34:15 +0000 2020</td>\n",
       "      <td>OLCF Corporation\\nThe world's first decentrali...</td>\n",
       "      <td>Twitter Web App</td>\n",
       "      <td>[b'https://twitter.com/i/web/status/1240828974...</td>\n",
       "      <td>None</td>\n",
       "    </tr>\n",
       "    <tr>\n",
       "      <td>30930</td>\n",
       "      <td>Fri Mar 20 05:16:46 +0000 2020</td>\n",
       "      <td>@caitoz Information is Beautiful, Data is Beau...</td>\n",
       "      <td>Twitter Web App</td>\n",
       "      <td>[b'https://twitter.com/i/web/status/1240869871...</td>\n",
       "      <td>None</td>\n",
       "    </tr>\n",
       "    <tr>\n",
       "      <td>30931</td>\n",
       "      <td>Fri Mar 20 04:50:29 +0000 2020</td>\n",
       "      <td>@Dr_F_Altammar @NAChristakis Healthcare worker...</td>\n",
       "      <td>Twitter for iPhone</td>\n",
       "      <td>[b'https://twitter.com/i/web/status/1240863258...</td>\n",
       "      <td>None</td>\n",
       "    </tr>\n",
       "  </tbody>\n",
       "</table>\n",
       "<p>30745 rows × 5 columns</p>\n",
       "</div>"
      ],
      "text/plain": [
       "                           created_at  \\\n",
       "0      Fri Mar 20 03:02:24 +0000 2020   \n",
       "1      Thu Mar 19 13:09:20 +0000 2020   \n",
       "2      Thu Mar 19 13:09:23 +0000 2020   \n",
       "3      Thu Mar 19 13:30:34 +0000 2020   \n",
       "4      Thu Mar 19 13:30:42 +0000 2020   \n",
       "...                               ...   \n",
       "30927  Fri Mar 20 02:54:21 +0000 2020   \n",
       "30928  Sun Mar 22 09:26:59 +0000 2020   \n",
       "30929  Fri Mar 20 02:34:15 +0000 2020   \n",
       "30930  Fri Mar 20 05:16:46 +0000 2020   \n",
       "30931  Fri Mar 20 04:50:29 +0000 2020   \n",
       "\n",
       "                                                    text               source  \\\n",
       "0      @Notintheface1 @Tweeted_Tongues No, I totally ...      Twitter Web App   \n",
       "1      LEARNING AT HOME CHALLENGE #6. Think of your f...      Twitter Web App   \n",
       "2      @SalemSchoolsk12 is offering enrichment activi...  Twitter for Android   \n",
       "3      NBA boss Adam Silver defends players' access t...   Twitter for iPhone   \n",
       "4      Big Play Slay is an Eagle and I’m hyped. Imagi...   Twitter for iPhone   \n",
       "...                                                  ...                  ...   \n",
       "30927  This project has a very strong team. I am sure...      Twitter Web App   \n",
       "30928  Very creative company and today one of the mos...      Twitter Web App   \n",
       "30929  OLCF Corporation\\nThe world's first decentrali...      Twitter Web App   \n",
       "30930  @caitoz Information is Beautiful, Data is Beau...      Twitter Web App   \n",
       "30931  @Dr_F_Altammar @NAChristakis Healthcare worker...   Twitter for iPhone   \n",
       "\n",
       "                                            expanded_url media_url_https  \n",
       "0      [b'https://twitter.com/i/web/status/1240836057...            None  \n",
       "1      [b'https://twitter.com/i/web/status/1240626410...            None  \n",
       "2      [b'https://twitter.com/i/web/status/1240626422...            None  \n",
       "3      [b'https://twitter.com/i/web/status/1240631754...            None  \n",
       "4      [b'https://twitter.com/i/web/status/1240631788...            None  \n",
       "...                                                  ...             ...  \n",
       "30927  [b'https://twitter.com/i/web/status/1240834030...            None  \n",
       "30928  [b'https://twitter.com/i/web/status/1241657616...            None  \n",
       "30929  [b'https://twitter.com/i/web/status/1240828974...            None  \n",
       "30930  [b'https://twitter.com/i/web/status/1240869871...            None  \n",
       "30931  [b'https://twitter.com/i/web/status/1240863258...            None  \n",
       "\n",
       "[30745 rows x 5 columns]"
      ]
     },
     "execution_count": 76,
     "metadata": {},
     "output_type": "execute_result"
    }
   ],
   "source": [
    "df.drop_duplicates([\"full_text\"], inplace=True)\n",
    "df[\"expanded_url\"] = df[\"expanded_url\"].astype(str)\n",
    "df[\"media_url_https\"] = df[\"media_url_https\"].astype(str)\n",
    "df[\"text\"] = df[\"full_text\"]\n",
    "df = df.drop([\"full_text\"], axis=1)\n",
    "df"
   ]
  },
  {
   "cell_type": "code",
   "execution_count": 53,
   "metadata": {},
   "outputs": [],
   "source": [
    "def store_df_as_parquet(df, path):\n",
    "    df[\"id\"] = np.arange(0, len(df), dtype=int)\n",
    "    df = df[[\"id\", \"text\", \"label\"]]\n",
    "    df.to_parquet(path, engine=\"fastparquet\")"
   ]
  },
  {
   "cell_type": "code",
   "execution_count": 28,
   "metadata": {},
   "outputs": [],
   "source": [
    "df = df.sample(frac=1, random_state=42).reset_index(drop=True)\n",
    "unlabeled_test_df = df[0:1000]  # 1K\n",
    "unlabeled_val_df = df[1000:1500]  # 500\n",
    "unlabeled_LF_df = df[1500:2500]  # 1K\n",
    "unlabeled_train_df = df[2500:]  # 25+K\n",
    "\n",
    "if not os.path.exists(\"ssp_tweet_dataset.parquet\"):\n",
    "    df.to_parquet(\"ssp_tweet_dataset.parquet\", engine=\"fastparquet\")\n",
    "    store_df_as_parquet(df=unlabeled_test_df, path=\"ssp_test_dataset.parquet\")\n",
    "    store_df_as_parquet(df=unlabeled_val_df, path=\"ssp_val_dataset.parquet\")\n",
    "    store_df_as_parquet(df=unlabeled_LF_df, path=\"ssp_LF_dataset.parquet\")\n",
    "    unlabeled_train_df.to_parquet(\"ssp_train_dataset.parquet\", engine=\"fastparquet\")\n",
    "\n"
   ]
  },
  {
   "cell_type": "code",
   "execution_count": 77,
   "metadata": {},
   "outputs": [
    {
     "data": {
      "text/plain": [
       "Index(['created_at', 'text', 'source', 'expanded_url', 'media_url_https'], dtype='object')"
      ]
     },
     "execution_count": 77,
     "metadata": {},
     "output_type": "execute_result"
    }
   ],
   "source": [
    "df.columns"
   ]
  },
  {
   "cell_type": "code",
   "execution_count": 29,
   "metadata": {},
   "outputs": [
    {
     "data": {
      "text/html": [
       "<div>\n",
       "<style scoped>\n",
       "    .dataframe tbody tr th:only-of-type {\n",
       "        vertical-align: middle;\n",
       "    }\n",
       "\n",
       "    .dataframe tbody tr th {\n",
       "        vertical-align: top;\n",
       "    }\n",
       "\n",
       "    .dataframe thead th {\n",
       "        text-align: right;\n",
       "    }\n",
       "</style>\n",
       "<table border=\"1\" class=\"dataframe\">\n",
       "  <thead>\n",
       "    <tr style=\"text-align: right;\">\n",
       "      <th></th>\n",
       "      <th>created_at</th>\n",
       "      <th>text</th>\n",
       "      <th>source</th>\n",
       "      <th>expanded_url</th>\n",
       "      <th>media_url_https</th>\n",
       "    </tr>\n",
       "  </thead>\n",
       "  <tbody>\n",
       "    <tr>\n",
       "      <td>0</td>\n",
       "      <td>Sun Mar 22 07:20:19 +0000 2020</td>\n",
       "      <td>Video: #AI, the end of #deeplearning ?\\n#DeepL...</td>\n",
       "      <td>Zapier.com</td>\n",
       "      <td>[b'https://twitter.com/i/web/status/1241625742...</td>\n",
       "      <td>None</td>\n",
       "    </tr>\n",
       "    <tr>\n",
       "      <td>1</td>\n",
       "      <td>Fri Mar 20 08:04:53 +0000 2020</td>\n",
       "      <td>@VICE Life saving???  It is not very often tha...</td>\n",
       "      <td>TweetDeck</td>\n",
       "      <td>[b'https://twitter.com/i/web/status/1240912181...</td>\n",
       "      <td>None</td>\n",
       "    </tr>\n",
       "    <tr>\n",
       "      <td>2</td>\n",
       "      <td>Sat Mar 21 16:32:22 +0000 2020</td>\n",
       "      <td>We feel very safe when Dr. Fauci speaks,share ...</td>\n",
       "      <td>Twitter for iPhone</td>\n",
       "      <td>[b'https://twitter.com/i/web/status/1241402279...</td>\n",
       "      <td>None</td>\n",
       "    </tr>\n",
       "    <tr>\n",
       "      <td>3</td>\n",
       "      <td>Fri Mar 20 08:31:08 +0000 2020</td>\n",
       "      <td>20. My current top 10\\n\\n1. 🇨🇭 Répondez-moi\\n2...</td>\n",
       "      <td>Twitter for Android</td>\n",
       "      <td>[b'https://twitter.com/i/web/status/1240918788...</td>\n",
       "      <td>None</td>\n",
       "    </tr>\n",
       "    <tr>\n",
       "      <td>4</td>\n",
       "      <td>Fri Mar 20 20:29:01 +0000 2020</td>\n",
       "      <td>\"For several years, advocates have warned that...</td>\n",
       "      <td>Buffer</td>\n",
       "      <td>[b'https://twitter.com/i/web/status/1241099447...</td>\n",
       "      <td>None</td>\n",
       "    </tr>\n",
       "    <tr>\n",
       "      <td>...</td>\n",
       "      <td>...</td>\n",
       "      <td>...</td>\n",
       "      <td>...</td>\n",
       "      <td>...</td>\n",
       "      <td>...</td>\n",
       "    </tr>\n",
       "    <tr>\n",
       "      <td>995</td>\n",
       "      <td>Thu Mar 19 13:07:03 +0000 2020</td>\n",
       "      <td>@LFLegal @inspiredcat @Jeharrislaw @sbagen @DR...</td>\n",
       "      <td>Twitter for Android</td>\n",
       "      <td>[b'https://twitter.com/i/web/status/1240625834...</td>\n",
       "      <td>None</td>\n",
       "    </tr>\n",
       "    <tr>\n",
       "      <td>996</td>\n",
       "      <td>Sun Mar 22 07:06:43 +0000 2020</td>\n",
       "      <td>Football 101: Analytics Part 2\\nDayne Young an...</td>\n",
       "      <td>Microsoft Power Platform</td>\n",
       "      <td>[b'https://twitter.com/i/web/status/1241622316...</td>\n",
       "      <td>None</td>\n",
       "    </tr>\n",
       "    <tr>\n",
       "      <td>997</td>\n",
       "      <td>Thu Mar 19 13:42:37 +0000 2020</td>\n",
       "      <td>I will do your #online #classes #homeworks &amp;am...</td>\n",
       "      <td>Twitter for Android</td>\n",
       "      <td>[b'https://twitter.com/i/web/status/1240634784...</td>\n",
       "      <td>None</td>\n",
       "    </tr>\n",
       "    <tr>\n",
       "      <td>998</td>\n",
       "      <td>Sun Mar 22 07:22:34 +0000 2020</td>\n",
       "      <td>Police officers in #China use #AR helmets allo...</td>\n",
       "      <td>Twitter for iPhone</td>\n",
       "      <td>[b'https://twitter.com/i/web/status/1241626308...</td>\n",
       "      <td>None</td>\n",
       "    </tr>\n",
       "    <tr>\n",
       "      <td>999</td>\n",
       "      <td>Fri Mar 20 20:41:01 +0000 2020</td>\n",
       "      <td>@FarhanVirk To all those who don't understand ...</td>\n",
       "      <td>Twitter for Android</td>\n",
       "      <td>[b'https://twitter.com/i/web/status/1241102469...</td>\n",
       "      <td>None</td>\n",
       "    </tr>\n",
       "  </tbody>\n",
       "</table>\n",
       "<p>1000 rows × 5 columns</p>\n",
       "</div>"
      ],
      "text/plain": [
       "                         created_at  \\\n",
       "0    Sun Mar 22 07:20:19 +0000 2020   \n",
       "1    Fri Mar 20 08:04:53 +0000 2020   \n",
       "2    Sat Mar 21 16:32:22 +0000 2020   \n",
       "3    Fri Mar 20 08:31:08 +0000 2020   \n",
       "4    Fri Mar 20 20:29:01 +0000 2020   \n",
       "..                              ...   \n",
       "995  Thu Mar 19 13:07:03 +0000 2020   \n",
       "996  Sun Mar 22 07:06:43 +0000 2020   \n",
       "997  Thu Mar 19 13:42:37 +0000 2020   \n",
       "998  Sun Mar 22 07:22:34 +0000 2020   \n",
       "999  Fri Mar 20 20:41:01 +0000 2020   \n",
       "\n",
       "                                                  text  \\\n",
       "0    Video: #AI, the end of #deeplearning ?\\n#DeepL...   \n",
       "1    @VICE Life saving???  It is not very often tha...   \n",
       "2    We feel very safe when Dr. Fauci speaks,share ...   \n",
       "3    20. My current top 10\\n\\n1. 🇨🇭 Répondez-moi\\n2...   \n",
       "4    \"For several years, advocates have warned that...   \n",
       "..                                                 ...   \n",
       "995  @LFLegal @inspiredcat @Jeharrislaw @sbagen @DR...   \n",
       "996  Football 101: Analytics Part 2\\nDayne Young an...   \n",
       "997  I will do your #online #classes #homeworks &am...   \n",
       "998  Police officers in #China use #AR helmets allo...   \n",
       "999  @FarhanVirk To all those who don't understand ...   \n",
       "\n",
       "                       source  \\\n",
       "0                  Zapier.com   \n",
       "1                   TweetDeck   \n",
       "2          Twitter for iPhone   \n",
       "3         Twitter for Android   \n",
       "4                      Buffer   \n",
       "..                        ...   \n",
       "995       Twitter for Android   \n",
       "996  Microsoft Power Platform   \n",
       "997       Twitter for Android   \n",
       "998        Twitter for iPhone   \n",
       "999       Twitter for Android   \n",
       "\n",
       "                                          expanded_url media_url_https  \n",
       "0    [b'https://twitter.com/i/web/status/1241625742...            None  \n",
       "1    [b'https://twitter.com/i/web/status/1240912181...            None  \n",
       "2    [b'https://twitter.com/i/web/status/1241402279...            None  \n",
       "3    [b'https://twitter.com/i/web/status/1240918788...            None  \n",
       "4    [b'https://twitter.com/i/web/status/1241099447...            None  \n",
       "..                                                 ...             ...  \n",
       "995  [b'https://twitter.com/i/web/status/1240625834...            None  \n",
       "996  [b'https://twitter.com/i/web/status/1241622316...            None  \n",
       "997  [b'https://twitter.com/i/web/status/1240634784...            None  \n",
       "998  [b'https://twitter.com/i/web/status/1241626308...            None  \n",
       "999  [b'https://twitter.com/i/web/status/1241102469...            None  \n",
       "\n",
       "[1000 rows x 5 columns]"
      ]
     },
     "execution_count": 29,
     "metadata": {},
     "output_type": "execute_result"
    }
   ],
   "source": [
    "unlabeled_LF_df.reset_index(inplace=True, drop=True)\n",
    "unlabeled_LF_df"
   ]
  },
  {
   "cell_type": "code",
   "execution_count": null,
   "metadata": {},
   "outputs": [],
   "source": []
  },
  {
   "cell_type": "code",
   "execution_count": 30,
   "metadata": {},
   "outputs": [],
   "source": [
    "text_data = unlabeled_LF_df[\"text\"].values\n",
    "text_data = [re.sub(\"http[s]?:\\/\\/\\S+\", \"\", row) for row in text_data]\n",
    "# text_data"
   ]
  },
  {
   "cell_type": "code",
   "execution_count": 31,
   "metadata": {},
   "outputs": [],
   "source": [
    "# img_mask=imageio.imread('../word_cloud_mask.png')"
   ]
  },
  {
   "cell_type": "code",
   "execution_count": 32,
   "metadata": {},
   "outputs": [
    {
     "data": {
      "text/plain": [
       "(-0.5, 399.5, 199.5, -0.5)"
      ]
     },
     "execution_count": 32,
     "metadata": {},
     "output_type": "execute_result"
    },
    {
     "data": {
      "image/png": "[encoded data removed]",
      "text/plain": [
       "<Figure size 1152x936 with 1 Axes>"
      ]
     },
     "metadata": {
      "needs_background": "light"
     },
     "output_type": "display_data"
    }
   ],
   "source": [
    "plt.figure(figsize=(16,13))\n",
    "\n",
    "wc = WordCloud(background_color=\"black\", \n",
    "               max_words=500, \n",
    "               stopwords=STOPWORDS, \n",
    "               max_font_size= 40)\n",
    "\n",
    "wc.generate(\" \".join(text_data))\n",
    "plt.title(\"Twitter Raw Dataset\", fontsize=20)\n",
    "plt.imshow(wc.recolor( colormap= 'Pastel2' , random_state=17), alpha=0.98)\n",
    "plt.axis('off')"
   ]
  },
  {
   "cell_type": "markdown",
   "metadata": {},
   "source": [
    "# Clustering Techniques\n",
    "\n",
    "We have to go with unsupervised learning techniques, since we don't have labels with us."
   ]
  },
  {
   "cell_type": "code",
   "execution_count": 35,
   "metadata": {},
   "outputs": [],
   "source": [
    "text_df = unlabeled_LF_df.copy()\n",
    "text_df = text_df.drop([\"created_at\", \"source\", \"expanded_url\", \"media_url_https\"], axis=1)"
   ]
  },
  {
   "cell_type": "code",
   "execution_count": 36,
   "metadata": {},
   "outputs": [
    {
     "data": {
      "text/html": [
       "<div>\n",
       "<style scoped>\n",
       "    .dataframe tbody tr th:only-of-type {\n",
       "        vertical-align: middle;\n",
       "    }\n",
       "\n",
       "    .dataframe tbody tr th {\n",
       "        vertical-align: top;\n",
       "    }\n",
       "\n",
       "    .dataframe thead th {\n",
       "        text-align: right;\n",
       "    }\n",
       "</style>\n",
       "<table border=\"1\" class=\"dataframe\">\n",
       "  <thead>\n",
       "    <tr style=\"text-align: right;\">\n",
       "      <th></th>\n",
       "      <th>text</th>\n",
       "    </tr>\n",
       "  </thead>\n",
       "  <tbody>\n",
       "    <tr>\n",
       "      <td>0</td>\n",
       "      <td>Video: #AI, the end of #deeplearning ?\\n#DeepL...</td>\n",
       "    </tr>\n",
       "    <tr>\n",
       "      <td>1</td>\n",
       "      <td>@VICE Life saving???  It is not very often tha...</td>\n",
       "    </tr>\n",
       "    <tr>\n",
       "      <td>2</td>\n",
       "      <td>We feel very safe when Dr. Fauci speaks,share ...</td>\n",
       "    </tr>\n",
       "    <tr>\n",
       "      <td>3</td>\n",
       "      <td>20. My current top 10\\n\\n1. 🇨🇭 Répondez-moi\\n2...</td>\n",
       "    </tr>\n",
       "    <tr>\n",
       "      <td>4</td>\n",
       "      <td>\"For several years, advocates have warned that...</td>\n",
       "    </tr>\n",
       "    <tr>\n",
       "      <td>...</td>\n",
       "      <td>...</td>\n",
       "    </tr>\n",
       "    <tr>\n",
       "      <td>995</td>\n",
       "      <td>@LFLegal @inspiredcat @Jeharrislaw @sbagen @DR...</td>\n",
       "    </tr>\n",
       "    <tr>\n",
       "      <td>996</td>\n",
       "      <td>Football 101: Analytics Part 2\\nDayne Young an...</td>\n",
       "    </tr>\n",
       "    <tr>\n",
       "      <td>997</td>\n",
       "      <td>I will do your #online #classes #homeworks &amp;am...</td>\n",
       "    </tr>\n",
       "    <tr>\n",
       "      <td>998</td>\n",
       "      <td>Police officers in #China use #AR helmets allo...</td>\n",
       "    </tr>\n",
       "    <tr>\n",
       "      <td>999</td>\n",
       "      <td>@FarhanVirk To all those who don't understand ...</td>\n",
       "    </tr>\n",
       "  </tbody>\n",
       "</table>\n",
       "<p>1000 rows × 1 columns</p>\n",
       "</div>"
      ],
      "text/plain": [
       "                                                  text\n",
       "0    Video: #AI, the end of #deeplearning ?\\n#DeepL...\n",
       "1    @VICE Life saving???  It is not very often tha...\n",
       "2    We feel very safe when Dr. Fauci speaks,share ...\n",
       "3    20. My current top 10\\n\\n1. 🇨🇭 Répondez-moi\\n2...\n",
       "4    \"For several years, advocates have warned that...\n",
       "..                                                 ...\n",
       "995  @LFLegal @inspiredcat @Jeharrislaw @sbagen @DR...\n",
       "996  Football 101: Analytics Part 2\\nDayne Young an...\n",
       "997  I will do your #online #classes #homeworks &am...\n",
       "998  Police officers in #China use #AR helmets allo...\n",
       "999  @FarhanVirk To all those who don't understand ...\n",
       "\n",
       "[1000 rows x 1 columns]"
      ]
     },
     "execution_count": 36,
     "metadata": {},
     "output_type": "execute_result"
    }
   ],
   "source": [
    "text_df"
   ]
  },
  {
   "cell_type": "markdown",
   "metadata": {},
   "source": [
    "## Feature Engineering"
   ]
  },
  {
   "cell_type": "markdown",
   "metadata": {},
   "source": [
    "**Data Preprocessing**"
   ]
  },
  {
   "cell_type": "code",
   "execution_count": 38,
   "metadata": {},
   "outputs": [],
   "source": [
    "def preprocessing(df):\n",
    "    # Remove punctuation\n",
    "    df[\"text\"] = df[\"text\"].apply(lambda x: re.sub('[^a-zA-Z0-9\\s]', '', x))\n",
    "    # To smaller\n",
    "    df[\"text\"] = df[\"text\"].apply(lambda x: x.lower())\n",
    "    df[\"text\"] = df[\"text\"].apply(lambda x: x.replace(\"\\n\", \" \"))\n",
    "    # Remove stop words ? for ML models\n",
    "    # Lematization ? for ML models\n",
    "    # Remove mentions\n",
    "    # Tweets with more than 5 mentions/hashtag then consider it to be spam/useless, check with length\n",
    "    return df"
   ]
  },
  {
   "cell_type": "code",
   "execution_count": 39,
   "metadata": {},
   "outputs": [],
   "source": [
    "text_df = preprocessing(text_df)"
   ]
  },
  {
   "cell_type": "markdown",
   "metadata": {},
   "source": [
    "### Labelling"
   ]
  },
  {
   "cell_type": "code",
   "execution_count": 40,
   "metadata": {},
   "outputs": [],
   "source": [
    "KEYWORDS = \"machine learning,#ML,#DL,deep learning,neural networks,tensorflow,pytorch,#AI,ai,artificial intelligence,big data science,data science,computer vision,image processing,text processing,data analytics,text analytics,kaggle\".split(\",\")\n",
    "\n",
    "def labelme(text, keyboards=KEYWORDS):\n",
    "    res = 0\n",
    "    for keyword in KEYWORDS:\n",
    "        if keyword.lower() in text:\n",
    "            res = 1\n",
    "    return res"
   ]
  },
  {
   "cell_type": "code",
   "execution_count": 54,
   "metadata": {},
   "outputs": [
    {
     "data": {
      "text/plain": [
       "0      video ai the end of deeplearning  deeplearning...\n",
       "1      vice life saving  it is not very often that el...\n",
       "2      we feel very safe when dr fauci speaksshare we...\n",
       "3      20 my current top 10  1  rpondezmoi 2  solovey...\n",
       "4      for several years advocates have warned that w...\n",
       "                             ...                        \n",
       "995    lflegal inspiredcat jeharrislaw sbagen dredf n...\n",
       "996    football 101 analytics part 2 dayne young and ...\n",
       "997    i will do your online classes homeworks amp as...\n",
       "998    police officers in china use ar helmets allowi...\n",
       "999    farhanvirk to all those who dont understand th...\n",
       "Name: text, Length: 1000, dtype: object"
      ]
     },
     "execution_count": 54,
     "metadata": {},
     "output_type": "execute_result"
    }
   ],
   "source": [
    "unlabeled_LF_df_labeled = unlabeled_LF_df.copy()\n",
    "unlabeled_LF_df_labeled = preprocessing(unlabeled_LF_df_labeled)\n",
    "unlabeled_LF_df_labeled[\"text\"]"
   ]
  },
  {
   "cell_type": "code",
   "execution_count": 58,
   "metadata": {},
   "outputs": [],
   "source": [
    "unlabeled_LF_df_labeled[\"label\"] = unlabeled_LF_df_labeled[\"text\"].apply(labelme)\n",
    "store_df_as_parquet(df=unlabeled_LF_df_labeled, path=\"ssp_LF_dataset_labeled.parquet\")"
   ]
  },
  {
   "cell_type": "code",
   "execution_count": 59,
   "metadata": {},
   "outputs": [
    {
     "data": {
      "text/html": [
       "<div>\n",
       "<style scoped>\n",
       "    .dataframe tbody tr th:only-of-type {\n",
       "        vertical-align: middle;\n",
       "    }\n",
       "\n",
       "    .dataframe tbody tr th {\n",
       "        vertical-align: top;\n",
       "    }\n",
       "\n",
       "    .dataframe thead th {\n",
       "        text-align: right;\n",
       "    }\n",
       "</style>\n",
       "<table border=\"1\" class=\"dataframe\">\n",
       "  <thead>\n",
       "    <tr style=\"text-align: right;\">\n",
       "      <th></th>\n",
       "      <th>text</th>\n",
       "      <th>label</th>\n",
       "    </tr>\n",
       "  </thead>\n",
       "  <tbody>\n",
       "    <tr>\n",
       "      <td>0</td>\n",
       "      <td>video ai the end of deeplearning  deeplearning...</td>\n",
       "      <td>1</td>\n",
       "    </tr>\n",
       "    <tr>\n",
       "      <td>1</td>\n",
       "      <td>vice life saving  it is not very often that el...</td>\n",
       "      <td>0</td>\n",
       "    </tr>\n",
       "    <tr>\n",
       "      <td>2</td>\n",
       "      <td>we feel very safe when dr fauci speaksshare we...</td>\n",
       "      <td>0</td>\n",
       "    </tr>\n",
       "    <tr>\n",
       "      <td>3</td>\n",
       "      <td>20 my current top 10  1  rpondezmoi 2  solovey...</td>\n",
       "      <td>0</td>\n",
       "    </tr>\n",
       "    <tr>\n",
       "      <td>4</td>\n",
       "      <td>for several years advocates have warned that w...</td>\n",
       "      <td>0</td>\n",
       "    </tr>\n",
       "    <tr>\n",
       "      <td>...</td>\n",
       "      <td>...</td>\n",
       "      <td>...</td>\n",
       "    </tr>\n",
       "    <tr>\n",
       "      <td>995</td>\n",
       "      <td>lflegal inspiredcat jeharrislaw sbagen dredf n...</td>\n",
       "      <td>0</td>\n",
       "    </tr>\n",
       "    <tr>\n",
       "      <td>996</td>\n",
       "      <td>football 101 analytics part 2 dayne young and ...</td>\n",
       "      <td>0</td>\n",
       "    </tr>\n",
       "    <tr>\n",
       "      <td>997</td>\n",
       "      <td>i will do your online classes homeworks amp as...</td>\n",
       "      <td>0</td>\n",
       "    </tr>\n",
       "    <tr>\n",
       "      <td>998</td>\n",
       "      <td>police officers in china use ar helmets allowi...</td>\n",
       "      <td>1</td>\n",
       "    </tr>\n",
       "    <tr>\n",
       "      <td>999</td>\n",
       "      <td>farhanvirk to all those who dont understand th...</td>\n",
       "      <td>1</td>\n",
       "    </tr>\n",
       "  </tbody>\n",
       "</table>\n",
       "<p>1000 rows × 2 columns</p>\n",
       "</div>"
      ],
      "text/plain": [
       "                                                  text  label\n",
       "0    video ai the end of deeplearning  deeplearning...      1\n",
       "1    vice life saving  it is not very often that el...      0\n",
       "2    we feel very safe when dr fauci speaksshare we...      0\n",
       "3    20 my current top 10  1  rpondezmoi 2  solovey...      0\n",
       "4    for several years advocates have warned that w...      0\n",
       "..                                                 ...    ...\n",
       "995  lflegal inspiredcat jeharrislaw sbagen dredf n...      0\n",
       "996  football 101 analytics part 2 dayne young and ...      0\n",
       "997  i will do your online classes homeworks amp as...      0\n",
       "998  police officers in china use ar helmets allowi...      1\n",
       "999  farhanvirk to all those who dont understand th...      1\n",
       "\n",
       "[1000 rows x 2 columns]"
      ]
     },
     "execution_count": 59,
     "metadata": {},
     "output_type": "execute_result"
    }
   ],
   "source": [
    "unlabeled_LF_df_labeled[[\"text\", \"label\"]]"
   ]
  },
  {
   "cell_type": "code",
   "execution_count": 60,
   "metadata": {},
   "outputs": [
    {
     "data": {
      "text/plain": [
       "0    515\n",
       "1    485\n",
       "Name: label, dtype: int64"
      ]
     },
     "execution_count": 60,
     "metadata": {},
     "output_type": "execute_result"
    }
   ],
   "source": [
    "unlabeled_LF_df_labeled[\"label\"].value_counts()"
   ]
  },
  {
   "cell_type": "markdown",
   "metadata": {},
   "source": [
    "**Count**"
   ]
  },
  {
   "cell_type": "code",
   "execution_count": 198,
   "metadata": {},
   "outputs": [
    {
     "data": {
      "text/html": [
       "<div>\n",
       "<style scoped>\n",
       "    .dataframe tbody tr th:only-of-type {\n",
       "        vertical-align: middle;\n",
       "    }\n",
       "\n",
       "    .dataframe tbody tr th {\n",
       "        vertical-align: top;\n",
       "    }\n",
       "\n",
       "    .dataframe thead th {\n",
       "        text-align: right;\n",
       "    }\n",
       "</style>\n",
       "<table border=\"1\" class=\"dataframe\">\n",
       "  <thead>\n",
       "    <tr style=\"text-align: right;\">\n",
       "      <th></th>\n",
       "      <th>full_text</th>\n",
       "      <th>count</th>\n",
       "      <th>label</th>\n",
       "    </tr>\n",
       "  </thead>\n",
       "  <tbody>\n",
       "    <tr>\n",
       "      <td>0</td>\n",
       "      <td>data privacy is your concern we could help to ...</td>\n",
       "      <td>26</td>\n",
       "      <td>1</td>\n",
       "    </tr>\n",
       "    <tr>\n",
       "      <td>1</td>\n",
       "      <td>oliver bernard ltd business intelligence  data...</td>\n",
       "      <td>26</td>\n",
       "      <td>1</td>\n",
       "    </tr>\n",
       "    <tr>\n",
       "      <td>2</td>\n",
       "      <td>wondering at the moment is there a correlation...</td>\n",
       "      <td>35</td>\n",
       "      <td>0</td>\n",
       "    </tr>\n",
       "    <tr>\n",
       "      <td>3</td>\n",
       "      <td>isnt one power an order like tell me what leve...</td>\n",
       "      <td>28</td>\n",
       "      <td>0</td>\n",
       "    </tr>\n",
       "    <tr>\n",
       "      <td>4</td>\n",
       "      <td>neighbors were having a dying tree cut down be...</td>\n",
       "      <td>57</td>\n",
       "      <td>0</td>\n",
       "    </tr>\n",
       "    <tr>\n",
       "      <td>...</td>\n",
       "      <td>...</td>\n",
       "      <td>...</td>\n",
       "      <td>...</td>\n",
       "    </tr>\n",
       "    <tr>\n",
       "      <td>995</td>\n",
       "      <td>at the heart of their algorithms is a scary bu...</td>\n",
       "      <td>43</td>\n",
       "      <td>1</td>\n",
       "    </tr>\n",
       "    <tr>\n",
       "      <td>996</td>\n",
       "      <td>ftblseb honestly rate yourself  looks  710 cre...</td>\n",
       "      <td>39</td>\n",
       "      <td>0</td>\n",
       "    </tr>\n",
       "    <tr>\n",
       "      <td>997</td>\n",
       "      <td>via richardeudes  why safeway grocery clerks w...</td>\n",
       "      <td>19</td>\n",
       "      <td>1</td>\n",
       "    </tr>\n",
       "    <tr>\n",
       "      <td>998</td>\n",
       "      <td>a japanese company is using ai and iot to reco...</td>\n",
       "      <td>21</td>\n",
       "      <td>1</td>\n",
       "    </tr>\n",
       "    <tr>\n",
       "      <td>999</td>\n",
       "      <td>coronavirus is hiding in plain sight  for ever...</td>\n",
       "      <td>29</td>\n",
       "      <td>1</td>\n",
       "    </tr>\n",
       "  </tbody>\n",
       "</table>\n",
       "<p>1000 rows × 3 columns</p>\n",
       "</div>"
      ],
      "text/plain": [
       "                                             full_text  count  label\n",
       "0    data privacy is your concern we could help to ...     26      1\n",
       "1    oliver bernard ltd business intelligence  data...     26      1\n",
       "2    wondering at the moment is there a correlation...     35      0\n",
       "3    isnt one power an order like tell me what leve...     28      0\n",
       "4    neighbors were having a dying tree cut down be...     57      0\n",
       "..                                                 ...    ...    ...\n",
       "995  at the heart of their algorithms is a scary bu...     43      1\n",
       "996  ftblseb honestly rate yourself  looks  710 cre...     39      0\n",
       "997  via richardeudes  why safeway grocery clerks w...     19      1\n",
       "998  a japanese company is using ai and iot to reco...     21      1\n",
       "999  coronavirus is hiding in plain sight  for ever...     29      1\n",
       "\n",
       "[1000 rows x 3 columns]"
      ]
     },
     "execution_count": 198,
     "metadata": {},
     "output_type": "execute_result"
    }
   ],
   "source": [
    "text_df[\"count\"] = text_df[\"full_text\"].apply(lambda x : len(x.strip().split(\" \")))\n",
    "text_df[\"label\"] = text_df[\"full_text\"].apply(labelme)\n",
    "text_df"
   ]
  },
  {
   "cell_type": "code",
   "execution_count": 199,
   "metadata": {},
   "outputs": [
    {
     "data": {
      "text/plain": [
       "0    509\n",
       "1    491\n",
       "Name: label, dtype: int64"
      ]
     },
     "execution_count": 199,
     "metadata": {},
     "output_type": "execute_result"
    }
   ],
   "source": [
    "text_df[\"label\"].value_counts()"
   ]
  },
  {
   "cell_type": "markdown",
   "metadata": {},
   "source": [
    "**n-gram**"
   ]
  },
  {
   "cell_type": "code",
   "execution_count": 85,
   "metadata": {},
   "outputs": [],
   "source": [
    "# def ngramise(sequence):\n",
    "#     '''\n",
    "#     Iterate over bigrams and 1,2-skip-grams.\n",
    "#     '''\n",
    "#     for bigram in nltk.ngrams(nltk.word_tokenize(sequence), 2):\n",
    "#         yield \"_\".join(bigram)\n",
    "# text_df[\"2gram\"] = text_df[\"full_text\"].apply(lambda x : list(ngramise(x)))\n",
    "# list(ngramise(text_df[\"full_text\"].tolist()[0]))[:10]"
   ]
  },
  {
   "cell_type": "markdown",
   "metadata": {},
   "source": [
    "#https://medium.com/reputation-com-datascience-blog/keywords-extraction-with-ngram-and-modified-skip-gram-based-on-spacy-14e5625fce23"
   ]
  },
  {
   "cell_type": "code",
   "execution_count": 130,
   "metadata": {},
   "outputs": [],
   "source": [
    "X_text = text_df[\"full_text\"]"
   ]
  },
  {
   "cell_type": "markdown",
   "metadata": {},
   "source": [
    "**Vectorizers**   \n",
    "Converts the text into numbers based on the words frequency, one way or other"
   ]
  },
  {
   "cell_type": "code",
   "execution_count": 131,
   "metadata": {},
   "outputs": [],
   "source": [
    "# https://scikit-learn.org/stable/modules/generated/sklearn.feature_extraction.text.CountVectorizer.html\n",
    "count_vectorizer = CountVectorizer(analyzer='word', stop_words=STOPWORDS, max_features=4096, ngram_range=(2, 2))"
   ]
  },
  {
   "cell_type": "code",
   "execution_count": 132,
   "metadata": {},
   "outputs": [
    {
     "name": "stderr",
     "output_type": "stream",
     "text": [
      "/home/mageswarand/anaconda3/envs/vh/lib/python3.6/site-packages/sklearn/feature_extraction/text.py:300: UserWarning: Your stop_words may be inconsistent with your preprocessing. Tokenizing the stop words generated tokens ['aren', 'couldn', 'didn', 'doesn', 'don', 'hadn', 'hasn', 'haven', 'isn', 'let', 'll', 'mustn', 're', 'shan', 'shouldn', 've', 'wasn', 'weren', 'won', 'wouldn'] not in stop_words.\n",
      "  'stop_words.' % sorted(inconsistent))\n"
     ]
    }
   ],
   "source": [
    "X_data = count_vectorizer.fit_transform(X_text)"
   ]
  },
  {
   "cell_type": "code",
   "execution_count": 133,
   "metadata": {},
   "outputs": [
    {
     "data": {
      "text/plain": [
       "(1000, 4096)"
      ]
     },
     "execution_count": 133,
     "metadata": {},
     "output_type": "execute_result"
    }
   ],
   "source": [
    "X_data.shape"
   ]
  },
  {
   "cell_type": "code",
   "execution_count": 134,
   "metadata": {},
   "outputs": [
    {
     "name": "stdout",
     "output_type": "stream",
     "text": [
      "X_train size: 800\n",
      "X_test size: 200 \n",
      "\n"
     ]
    }
   ],
   "source": [
    "# test set size of 20% of the data and the random seed 42 <3\n",
    "X_train, X_test = train_test_split(X_data.toarray(), test_size=0.2, random_state=42)\n",
    "\n",
    "print(\"X_train size:\", len(X_train))\n",
    "print(\"X_test size:\", len(X_test), \"\\n\")\n"
   ]
  },
  {
   "cell_type": "markdown",
   "metadata": {},
   "source": [
    "### Dimensionality Reduction\n",
    "\n",
    "Now we have extracted enough features for our training, but can we work with such high dimensional data? \n",
    "Dependending on the number of records the answer is yes/no. Considering the answer is no, as our systems can't hold huge arrays, lets reduce the features?\n",
    "\n",
    "But wait? how do we know which one should keep and which should throw away?\n",
    "\n",
    "Lets give that jobs to dimensionality reductions models/algorithms which can do it in more statistical way.\n"
   ]
  },
  {
   "cell_type": "code",
   "execution_count": 135,
   "metadata": {},
   "outputs": [
    {
     "name": "stdout",
     "output_type": "stream",
     "text": [
      "[t-SNE] Computing 16 nearest neighbors...\n",
      "[t-SNE] Indexed 800 samples in 0.116s...\n",
      "[t-SNE] Computed neighbors for 800 samples in 3.934s...\n",
      "[t-SNE] Computed conditional probabilities for sample 800 / 800\n",
      "[t-SNE] Mean sigma: 0.000000\n",
      "[t-SNE] KL divergence after 250 iterations with early exaggeration: 119.435608\n",
      "[t-SNE] KL divergence after 1000 iterations: 3.407533\n"
     ]
    }
   ],
   "source": [
    "tsne = TSNE(verbose=1, perplexity=5)\n",
    "X_embedded = tsne.fit_transform(X_train)"
   ]
  },
  {
   "cell_type": "code",
   "execution_count": 138,
   "metadata": {},
   "outputs": [
    {
     "data": {
      "image/png": "[encoded data removed]",
      "text/plain": [
       "<Figure size 1080x1080 with 1 Axes>"
      ]
     },
     "metadata": {},
     "output_type": "display_data"
    }
   ],
   "source": [
    "# sns settings\n",
    "sns.set(rc={'figure.figsize':(15,15)})\n",
    "\n",
    "# colors\n",
    "palette = sns.color_palette(\"bright\", 1)\n",
    "\n",
    "# plot\n",
    "sns.scatterplot(X_embedded[:,0], X_embedded[:,1], palette=palette)\n",
    "\n",
    "plt.title(\"t-SNE AI Tweets\")\n",
    "#plt.savefig(\"plots/t-sne_covid19.png\")\n",
    "plt.show()"
   ]
  },
  {
   "cell_type": "code",
   "execution_count": 7,
   "metadata": {},
   "outputs": [],
   "source": [
    "# LDA"
   ]
  },
  {
   "cell_type": "code",
   "execution_count": 8,
   "metadata": {},
   "outputs": [],
   "source": [
    "# KMeans"
   ]
  },
  {
   "cell_type": "code",
   "execution_count": 9,
   "metadata": {},
   "outputs": [],
   "source": [
    "# LDA -> KMeans"
   ]
  },
  {
   "cell_type": "code",
   "execution_count": null,
   "metadata": {},
   "outputs": [],
   "source": [
    "# Clustering Validation Metrics\n",
    "# siloutte score\n",
    "# perplexicity "
   ]
  }
 ],
 "metadata": {
  "kernelspec": {
   "display_name": "Python 3",
   "language": "python",
   "name": "python3"
  },
  "language_info": {
   "codemirror_mode": {
    "name": "ipython",
    "version": 3
   },
   "file_extension": ".py",
   "mimetype": "text/x-python",
   "name": "python",
   "nbconvert_exporter": "python",
   "pygments_lexer": "ipython3",
   "version": "3.6.9"
  }
 },
 "nbformat": 4,
 "nbformat_minor": 4
}
